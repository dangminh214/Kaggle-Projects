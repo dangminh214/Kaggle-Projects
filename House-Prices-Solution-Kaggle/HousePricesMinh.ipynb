{
 "cells": [
  {
   "cell_type": "code",
   "execution_count": 1,
   "id": "4b515810-f024-4fd7-baee-12552791beef",
   "metadata": {},
   "outputs": [],
   "source": [
    "# This Python 3 environment comes with many helpful analytics libraries installed\n",
    "# It is defined by the kaggle/python Docker image: https://github.com/kaggle/docker-python\n",
    "# For example, here's several helpful packages to load\n",
    "\n",
    "import numpy as np # linear algebra\n",
    "import pandas as pd # data processing, CSV file I/O (e.g. pd.read_csv)\n",
    "import math\n",
    "from sklearn.metrics import mean_squared_error\n",
    "from sklearn.ensemble  import RandomForestRegressor\n",
    "import matplotlib.pyplot as plt\n",
    "\n",
    "# Input data files are available in the read-only \"../input/\" directory\n",
    "# For example, running this (by clicking run or pressing Shift+Enter) will list all files under the input directory\n",
    "\n",
    "import os\n",
    "for dirname, _, filenames in os.walk('/kaggle/input'):\n",
    "    for filename in filenames:\n",
    "        print(os.path.join(dirname, filename))\n",
    "\n",
    "# You can write up to 20GB to the current directory (/kaggle/working/) that gets preserved as output when you create a version using \"Save & Run All\" \n",
    "# You can also write temporary files to /kaggle/temp/, but they won't be saved outside of the current session"
   ]
  },
  {
   "cell_type": "code",
   "execution_count": 3,
   "id": "ea72e8c3-ca5f-4cac-a6f0-909edf726a02",
   "metadata": {},
   "outputs": [
    {
     "name": "stdout",
     "output_type": "stream",
     "text": [
      "Index([], dtype='object')\n"
     ]
    }
   ],
   "source": [
    "train = pd.read_csv(\"dataset/train.csv\")\n",
    "test = pd.read_csv(\"dataset/test.csv\")\n",
    "#print(train.describe(include=\"all\"))\n",
    "pd.options.display.max_columns = None\n",
    "\n",
    "string_columns = train.select_dtypes(include='object')\n",
    "unique_counts = string_columns.apply(lambda col: col.unique())\n",
    "\n",
    "# Mapping: new data frames\n",
    "mapping = {}\n",
    "for col in string_columns:\n",
    "    unique_values = string_columns[col].dropna().unique()\n",
    "    mapping[col] = {value: i for i, value in enumerate(unique_values)}\n",
    "    \n",
    "for col, map_dict in mapping.items():\n",
    "    train[col] = train[col].map(map_dict)\n",
    "\n",
    "# Fill all NaN = mean\n",
    "for col in train.columns: \n",
    "    train[col].fillna(round(train[col].mean()), inplace=True)\n",
    "    \n",
    "# print(train.describe(include=\"all\"))\n",
    "        \n",
    "# train['LotFrontage'].fillna(train['LotFrontage'].mean(), inplace=True)\n",
    "# To check: columns_with_nan = df.columns[df.isnull().any()]\n",
    "columns_with_nan = train.columns[train.isnull().any()]\n",
    "print(columns_with_nan)\n",
    "\n",
    "X = train.drop('SalePrice', axis=1)\n",
    "\n",
    "y = train[\"SalePrice\"]"
   ]
  },
  {
   "cell_type": "code",
   "execution_count": 5,
   "id": "b6835bf1-9147-4241-af14-bd45455f91af",
   "metadata": {},
   "outputs": [],
   "source": [
    "model = RandomForestRegressor()\n",
    "\n",
    "string_columns = test.select_dtypes(include='object')\n",
    "unique_counts = string_columns.apply(lambda col: col.unique())\n",
    "\n",
    "mapping = {}\n",
    "for col in string_columns:\n",
    "    unique_values = string_columns[col].dropna().unique()\n",
    "    mapping[col] = {value: i for i, value in enumerate(unique_values)}\n",
    "    \n",
    "for col, map_dict in mapping.items():\n",
    "    test[col] = test[col].map(map_dict)\n",
    "\n",
    "# Fill all NaN = mean\n",
    "for col in test.columns: \n",
    "    test[col].fillna(round(test[col].mean()), inplace=True)  \n",
    "\n",
    "# Fit model\n",
    "model.fit(X, y)\n",
    "\n",
    "# Make predictions on the test set\n",
    "y_pred = model.predict(test)\n",
    "\n",
    "# Calculate the Mean Squared Error\n",
    "# mse = mean_squared_error(y, y_pred)\n",
    "# rmse = np.sqrt(mse)\n",
    "\n",
    "string_columns = test.select_dtypes(include='object')\n",
    "unique_counts = string_columns.apply(lambda col: col.nunique())\n",
    "for col, count in unique_counts.items():\n",
    "    print(f\"{col}: {count}\")\n"
   ]
  },
  {
   "cell_type": "code",
   "execution_count": 9,
   "id": "b183f4db-5035-4ce6-b8f8-c56d1d7384f3",
   "metadata": {},
   "outputs": [],
   "source": [
    "submission = pd.DataFrame({\n",
    "    'Id': test['Id'],\n",
    "    'SalePrice': y_pred\n",
    "})\n",
    "\n",
    "# Save the submission DataFrame to a CSV file\n",
    "submission.to_csv('submission.csv', index=False)"
   ]
  }
 ],
 "metadata": {
  "kernelspec": {
   "display_name": "Python 3 (ipykernel)",
   "language": "python",
   "name": "python3"
  },
  "language_info": {
   "codemirror_mode": {
    "name": "ipython",
    "version": 3
   },
   "file_extension": ".py",
   "mimetype": "text/x-python",
   "name": "python",
   "nbconvert_exporter": "python",
   "pygments_lexer": "ipython3",
   "version": "3.11.7"
  }
 },
 "nbformat": 4,
 "nbformat_minor": 5
}
